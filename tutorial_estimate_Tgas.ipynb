{
 "cells": [
  {
   "cell_type": "markdown",
   "id": "289a828e-9b0d-4f20-b933-9f192c4c3bc8",
   "metadata": {},
   "source": [
    "## Estimating gas temperature\n",
    "\n",
    "We implement the modeling from Sharda+2023 to estimate gas temperature in our cloud models."
   ]
  },
  {
   "cell_type": "code",
   "execution_count": 1,
   "id": "f831ee99-0040-4a60-a0e9-cb58394a8618",
   "metadata": {},
   "outputs": [],
   "source": [
    "# Import packages and functions\n",
    "\n",
    "import numpy as np\n",
    "import matplotlib.pyplot as plt\n",
    "import astropy.constants as const\n",
    "import astropy.units as units\n",
    "from scipy import optimize\n",
    "from scipy.interpolate import interp1d, NearestNDInterpolator\n",
    "import warnings\n",
    "import sys\n",
    "import pandas as pd\n",
    "\n",
    "from check_temp import find_Tdust_new, gastemp\n",
    "\n",
    "# Constants\n",
    "kmpers = 1e5 # convert km/s to cm/s\n",
    "gcm2 = 0.000208836 # convert Msun / pc^2 to g / cm^2\n",
    "pc = 3.086*1e18 # convert pc to cm\n",
    "kappa = 1.5 # gas volume density PL power - rho(r) = rho0(r/r0)^-kappa\n",
    "mu = 2.33 # mean molecular weight\n",
    "u = 1.660538291 * 1e-24 # grams\n",
    "mH = 1.007825 * u # hydrogen mass in g\n",
    "userlogZ = 0 # log metallicity\n",
    "\n",
    "# inputs / options for Sharda+2023 temperature estimates\n",
    "userlogZ = 0\n",
    "cosmicrays = 1\n",
    "remyruyer = 0\n",
    "H2formationheating = 1\n",
    "chem = 0\n",
    "coratio = 0\n",
    "cosmicCrocker = 0\n",
    "cosmicPadovani = 1 - cosmicCrocker"
   ]
  },
  {
   "cell_type": "code",
   "execution_count": 2,
   "id": "1fdcbe06-3c59-4e11-81c8-ea2049f53ec8",
   "metadata": {},
   "outputs": [],
   "source": [
    "# extract CO cooling data and interpolate\n",
    "COfile = np.genfromtxt(\"grid_COcooling_new.out\")\n",
    "log_nH = np.log10(COfile[:, 0])\n",
    "Tgas = COfile[:, 1]\n",
    "log_NCO = np.log10(COfile[:, 2])\n",
    "sigma_v = COfile[:, 3] / 1e5\n",
    "cooling_rate = COfile[:, 4]\n",
    "COcooling = NearestNDInterpolator(list(zip(log_nH,Tgas,log_NCO,sigma_v)), cooling_rate)"
   ]
  },
  {
   "cell_type": "code",
   "execution_count": 3,
   "id": "86571140-9d33-49b3-887e-027b5c0be3a8",
   "metadata": {
    "scrolled": true
   },
   "outputs": [
    {
     "name": "stdout",
     "output_type": "stream",
     "text": [
      "Unnamed: 0     182169\n",
      "Galaxy        NGC6744\n",
      "scale            90.0\n",
      "Sigma            11.0\n",
      "Vdisp            2.69\n",
      "alphavir        3.374\n",
      "Name: 99, dtype: object\n"
     ]
    }
   ],
   "source": [
    "# read in model subset from Sun+2020, Brunetti+2023, Brunetti+2024 catalogues used in Bemis+2024\n",
    "\n",
    "df_out = pd.read_csv('model_subset300.csv')\n",
    "\n",
    "# extract one \n",
    "example_gal = df_out.iloc[99]\n",
    "print(example_gal)"
   ]
  },
  {
   "cell_type": "code",
   "execution_count": 4,
   "id": "67e9b2d7-7edc-46de-9364-77f4cc2a88e6",
   "metadata": {
    "scrolled": true
   },
   "outputs": [
    {
     "name": "stdout",
     "output_type": "stream",
     "text": [
      "3.707077726260633 1 / cm3\n"
     ]
    }
   ],
   "source": [
    "# Estimate mean density\n",
    "Sigma_0 = example_gal['Sigma'] * units.M_sun/units.pc**2 # M_sun / pc^2\n",
    "R_0 = example_gal['scale'] / 2 * units.pc # pc\n",
    "\n",
    "# Use approximation to estimate volume density at surface / edge\n",
    "rho_0 = (3 -  kappa) * Sigma_0 / R_0 / 4\n",
    "n_0 = (rho_0 / (mH * units.g)).to(1/units.cm**3)\n",
    "\n",
    "print(n_0)"
   ]
  },
  {
   "cell_type": "code",
   "execution_count": 5,
   "id": "9c5b9da8-2f97-4954-a2e4-e448cc917636",
   "metadata": {},
   "outputs": [
    {
     "name": "stdout",
     "output_type": "stream",
     "text": [
      "5.673943748640975 K\n"
     ]
    }
   ],
   "source": [
    "# Estimate surface dust temperature\n",
    "\n",
    "# convert inputs into cgs units\n",
    "usern = n_0.to(units.cm**-3).value\n",
    "userR = R_0.to(units.cm).value\n",
    "userSigma = Sigma_0.to(units.g/units.cm**2).value\n",
    "\n",
    "solution = find_Tdust_new(usern, userR, userlogZ, kappa, remyruyer, userSigma)\n",
    "Rch =  solution[2]\n",
    "kT = solution[3]\n",
    "Tdust = solution[4]\n",
    "loguserdelta = solution[5]\n",
    "\n",
    "print(Tdust*units.K)"
   ]
  },
  {
   "cell_type": "code",
   "execution_count": 6,
   "id": "c3b2adfa-cfc2-45a7-9abd-43dcdf01342d",
   "metadata": {},
   "outputs": [
    {
     "name": "stdout",
     "output_type": "stream",
     "text": [
      "[97.95640227792978, 50.69944078547136, 34.993778189813064, 22.498368334798904, 12.434589055989925, 12.499869872147189, 17.504134075615205, 101.27294007753993, 122.7112797636818, 135.2330725149018]\n"
     ]
    }
   ],
   "source": [
    "# estimate gas temperature over array of radii, gas densities\n",
    "\n",
    "# radius and density arrays\n",
    "minR = np.log10(0.001 * units.pc.to(units.cm))\n",
    "maxR = np.log10(userR)\n",
    "R_gas = np.logspace(minR, maxR,10)\n",
    "n_gas = usern * (R_gas/userR)**-kappa\n",
    "\n",
    "rho_ex = rho_0.to(units.kg/units.cm**3).value * units.kg.to(units.g)\n",
    "vdisp_ex = example_gal['Vdisp'] * (units.km /units.s).to(units.cm/units.s)\n",
    "\n",
    "# Initial guess\n",
    "Tgasguess = 30.\n",
    "        \n",
    "Tgas = []\n",
    "for r, n  in zip(R_gas,n_gas):\n",
    "\n",
    "    Tg = optimize.root(lambda t: gastemp(t, r, COcooling, rho_ex, userR, kappa, coratio, chem, cosmicrays, cosmicCrocker, cosmicPadovani, userSigma, Tdust, kT, vdisp_ex, loguserdelta, H2formationheating, usern), x0=Tgasguess, method='linearmixing')\n",
    "    Tgas.append(float(Tg.x))\n",
    "\n",
    "print(Tgas)"
   ]
  },
  {
   "cell_type": "code",
   "execution_count": 7,
   "id": "6db0edaf-8150-4ce3-b8f4-a6d59499984a",
   "metadata": {},
   "outputs": [
    {
     "data": {
      "image/png": "[encoded data removed]",
      "text/plain": [
       "<Figure size 640x480 with 1 Axes>"
      ]
     },
     "metadata": {},
     "output_type": "display_data"
    }
   ],
   "source": [
    "plt.plot(R_gas/pc, Tgas)\n",
    "plt.xlabel(\"log R (pc)\")\n",
    "plt.ylabel(\"T (K)\")\n",
    "plt.show()"
   ]
  },
  {
   "cell_type": "code",
   "execution_count": null,
   "id": "2bdd5ba0-124f-4346-839a-075886cd1417",
   "metadata": {},
   "outputs": [],
   "source": []
  }
 ],
 "metadata": {
  "kernelspec": {
   "display_name": "Python 3 (ipykernel)",
   "language": "python",
   "name": "python3"
  },
  "language_info": {
   "codemirror_mode": {
    "name": "ipython",
    "version": 3
   },
   "file_extension": ".py",
   "mimetype": "text/x-python",
   "name": "python",
   "nbconvert_exporter": "python",
   "pygments_lexer": "ipython3",
   "version": "3.11.9"
  }
 },
 "nbformat": 4,
 "nbformat_minor": 5
}
